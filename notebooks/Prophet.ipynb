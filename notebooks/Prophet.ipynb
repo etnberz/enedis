{
 "cells": [
  {
   "cell_type": "markdown",
   "metadata": {},
   "source": [
    "# IMPORT"
   ]
  },
  {
   "cell_type": "code",
   "execution_count": 1,
   "metadata": {
    "ExecuteTime": {
     "end_time": "2019-06-16T10:52:43.682568Z",
     "start_time": "2019-06-16T10:52:43.043122Z"
    }
   },
   "outputs": [],
   "source": [
    "%matplotlib notebook\n",
    "from utils.setup import *"
   ]
  },
  {
   "cell_type": "markdown",
   "metadata": {},
   "source": [
    "# CREATION DATAFRAMES"
   ]
  },
  {
   "cell_type": "code",
   "execution_count": 2,
   "metadata": {
    "ExecuteTime": {
     "end_time": "2019-06-16T10:52:44.045831Z",
     "start_time": "2019-06-16T10:52:43.684000Z"
    }
   },
   "outputs": [],
   "source": [
    "train = pd.read_csv(TRAIN_MERGED, index_col=0)\n",
    "train['ds'] = train.index\n",
    "test = pd.read_csv(TEST_MERGED, index_col=0)\n",
    "\n",
    "train.index = pd.to_datetime(train.index)\n",
    "test.index = pd.to_datetime(test.index)\n",
    "\n",
    "train.drop('Pseudo rayonnement', axis=1, inplace=True)\n",
    "test.drop('Pseudo rayonnement', axis=1, inplace=True)"
   ]
  },
  {
   "cell_type": "markdown",
   "metadata": {},
   "source": [
    "# PROPHET"
   ]
  },
  {
   "cell_type": "code",
   "execution_count": 3,
   "metadata": {
    "ExecuteTime": {
     "end_time": "2019-06-16T10:52:44.509692Z",
     "start_time": "2019-06-16T10:52:44.047281Z"
    }
   },
   "outputs": [],
   "source": [
    "import fbprophet"
   ]
  },
  {
   "cell_type": "code",
   "execution_count": 4,
   "metadata": {
    "ExecuteTime": {
     "end_time": "2019-06-16T10:52:44.535732Z",
     "start_time": "2019-06-16T10:52:44.511241Z"
    },
    "scrolled": true
   },
   "outputs": [
    {
     "data": {
      "text/html": [
       "<div>\n",
       "<style scoped>\n",
       "    .dataframe tbody tr th:only-of-type {\n",
       "        vertical-align: middle;\n",
       "    }\n",
       "\n",
       "    .dataframe tbody tr th {\n",
       "        vertical-align: top;\n",
       "    }\n",
       "\n",
       "    .dataframe thead th {\n",
       "        text-align: right;\n",
       "    }\n",
       "</style>\n",
       "<table border=\"1\" class=\"dataframe\">\n",
       "  <thead>\n",
       "    <tr style=\"text-align: right;\">\n",
       "      <th></th>\n",
       "      <th>ds</th>\n",
       "      <th>holiday</th>\n",
       "    </tr>\n",
       "  </thead>\n",
       "  <tbody>\n",
       "    <tr>\n",
       "      <th>0</th>\n",
       "      <td>2013-01-01</td>\n",
       "      <td>Jour de l'an</td>\n",
       "    </tr>\n",
       "    <tr>\n",
       "      <th>1</th>\n",
       "      <td>2013-04-01</td>\n",
       "      <td>Lundi de Pâques</td>\n",
       "    </tr>\n",
       "    <tr>\n",
       "      <th>2</th>\n",
       "      <td>2013-05-01</td>\n",
       "      <td>Fête du Travail</td>\n",
       "    </tr>\n",
       "    <tr>\n",
       "      <th>3</th>\n",
       "      <td>2013-05-08</td>\n",
       "      <td>Armistice 1945</td>\n",
       "    </tr>\n",
       "    <tr>\n",
       "      <th>4</th>\n",
       "      <td>2013-05-09</td>\n",
       "      <td>Ascension</td>\n",
       "    </tr>\n",
       "  </tbody>\n",
       "</table>\n",
       "</div>"
      ],
      "text/plain": [
       "           ds          holiday\n",
       "0  2013-01-01     Jour de l'an\n",
       "1  2013-04-01  Lundi de Pâques\n",
       "2  2013-05-01  Fête du Travail\n",
       "3  2013-05-08   Armistice 1945\n",
       "4  2013-05-09        Ascension"
      ]
     },
     "execution_count": 4,
     "metadata": {},
     "output_type": "execute_result"
    }
   ],
   "source": [
    "import holidays\n",
    "\n",
    "hol = {'ds':[],'holiday':[]}\n",
    "\n",
    "for date, name in sorted(holidays.FRA(years=list(range(2013,2020))).items()):\n",
    "    hol['ds'].append(date)\n",
    "    hol['holiday'].append(name)\n",
    "\n",
    "french_holidays = pd.DataFrame(hol,columns=['ds','holiday'])\n",
    "french_holidays.head()"
   ]
  },
  {
   "cell_type": "code",
   "execution_count": 5,
   "metadata": {
    "ExecuteTime": {
     "end_time": "2019-06-16T10:52:44.718826Z",
     "start_time": "2019-06-16T10:52:44.537029Z"
    }
   },
   "outputs": [],
   "source": [
    "%matplotlib inline"
   ]
  },
  {
   "cell_type": "code",
   "execution_count": 7,
   "metadata": {
    "ExecuteTime": {
     "end_time": "2019-06-16T10:53:05.497853Z",
     "start_time": "2019-06-16T10:53:05.447865Z"
    },
    "scrolled": false
   },
   "outputs": [],
   "source": [
    "def prophet_feature(df_train, df_test, target):\n",
    "\n",
    "    # Formating for prophet\n",
    "\n",
    "    data = df_train[['ds', target]]\n",
    "    data['y_orig'] = df_train[target]\n",
    "    data.reset_index(inplace=True, drop=True)\n",
    "    data.rename(columns={target:'y'}, inplace=True)\n",
    "    data['y'] = np.log(data['y'] + 0.001) #log transform\n",
    "    data.dropna(inplace=True)\n",
    "\n",
    "    # Future Dataframe\n",
    "    \n",
    "    future = pd.DataFrame(pd.date_range(start=data.iloc[0]['ds'], end='2018-12-07', freq='30min'),columns=['ds'])\n",
    "\n",
    "    # Prophet Model RES\n",
    "    \n",
    "    if target.startswith('R'):\n",
    "\n",
    "        model = fbprophet.Prophet(changepoint_prior_scale=0.1)\n",
    "        model.add_seasonality(name='demih',\n",
    "                               period=1/48,\n",
    "                               fourier_order=28)\n",
    "            \n",
    "    # Prophet Model PRO\n",
    "    \n",
    "    else:\n",
    "        \n",
    "        model = fbprophet.Prophet(changepoint_prior_scale=0.1,\n",
    "#                                  seasonality_prior_scale=20\n",
    "                                 daily_seasonality= 'auto',\n",
    "                                 weekly_seasonality=10,\n",
    "                                 yearly_seasonality= 8.7,\n",
    "                                 )\n",
    "        model.add_seasonality(name='demih',\n",
    "                               period=1/48,\n",
    "                               fourier_order=28)\n",
    "#         model.add_seasonality(name='monthly',\n",
    "#                               period=30.5,\n",
    "#                               fourier_order=12)\n",
    "#         model.add_seasonality(name='daily',\n",
    "#                               period=1,\n",
    "#                               fourier_order=15)\n",
    "#         model.add_seasonality(name='weekly',\n",
    "#                               period=7,\n",
    "#                               fourier_order=20)\n",
    "#         model.add_seasonality(name='yearly',\n",
    "#                               period=365,\n",
    "#                               fourier_order=20)\n",
    "#         model.add_seasonality(name='quarterly',\n",
    "#                               period=365/4,\n",
    "#                               fourier_order=5)\n",
    "\n",
    "        \n",
    "    model.fit(data)\n",
    "    forecast = model.predict(future) \n",
    "\n",
    "\n",
    "    # Unlog data\n",
    "\n",
    "    forecast['yhat'] = np.exp(forecast['yhat']) - 0.001\n",
    "    forecast['yhat_lower'] = np.exp(forecast['yhat_lower']) - 0.001\n",
    "    forecast['yhat_upper'] = np.exp(forecast['yhat_upper']) - 0.001\n",
    "\n",
    "    data['y_log'] = data['y']\n",
    "    data['y'] = data['y_orig']\n",
    "\n",
    "    # Predictions extraction\n",
    "\n",
    "    trend = pd.DataFrame(forecast['yhat'].values, index=forecast['ds'].values, columns=['prophet_{}'.format(target)])\n",
    "    trend.index = pd.to_datetime(trend.index)\n",
    "    df_train = df_train.join(trend, how='outer')\n",
    "    df_test = df_test.join(trend, how='outer')\n",
    "\n",
    "    # Plot predictions\n",
    "\n",
    "    plt.figure()\n",
    "    plt.title(target)\n",
    "    df_train[target].plot(label='Truth')\n",
    "    forecast.set_index(forecast['ds'].apply(pd.to_datetime))['yhat'].plot(alpha=0.5, label='Pred')\n",
    "    plt.legend()\n",
    "    plt.show()\n",
    "    \n",
    "    print('RMSE : ', np.sqrt((df_train[target]-df_train['prophet_{}'.format(target)])**2).mean())\n",
    "\n",
    "    return df_train, df_test"
   ]
  },
  {
   "cell_type": "code",
   "execution_count": 8,
   "metadata": {
    "ExecuteTime": {
     "end_time": "2019-06-16T10:55:10.990411Z",
     "start_time": "2019-06-16T10:53:21.070974Z"
    }
   },
   "outputs": [
    {
     "name": "stderr",
     "output_type": "stream",
     "text": [
      "/usr/lib64/python3.5/site-packages/ipykernel_launcher.py:6: SettingWithCopyWarning: \n",
      "A value is trying to be set on a copy of a slice from a DataFrame.\n",
      "Try using .loc[row_indexer,col_indexer] = value instead\n",
      "\n",
      "See the caveats in the documentation: http://pandas.pydata.org/pandas-docs/stable/indexing.html#indexing-view-versus-copy\n",
      "  \n",
      "/usr/lib64/python3.5/site-packages/pandas/core/frame.py:4025: SettingWithCopyWarning: \n",
      "A value is trying to be set on a copy of a slice from a DataFrame\n",
      "\n",
      "See the caveats in the documentation: http://pandas.pydata.org/pandas-docs/stable/indexing.html#indexing-view-versus-copy\n",
      "  return super(DataFrame, self).rename(**kwargs)\n",
      "/usr/lib64/python3.5/site-packages/ipykernel_launcher.py:9: SettingWithCopyWarning: \n",
      "A value is trying to be set on a copy of a slice from a DataFrame.\n",
      "Try using .loc[row_indexer,col_indexer] = value instead\n",
      "\n",
      "See the caveats in the documentation: http://pandas.pydata.org/pandas-docs/stable/indexing.html#indexing-view-versus-copy\n",
      "  if __name__ == '__main__':\n",
      "/usr/lib64/python3.5/site-packages/ipykernel_launcher.py:10: SettingWithCopyWarning: \n",
      "A value is trying to be set on a copy of a slice from a DataFrame\n",
      "\n",
      "See the caveats in the documentation: http://pandas.pydata.org/pandas-docs/stable/indexing.html#indexing-view-versus-copy\n",
      "  # Remove the CWD from sys.path while we load stuff.\n",
      "/home_nfs/mcaitucoli-2047/.local/lib64/python3.5/site-packages/fbprophet/forecaster.py:880: FutureWarning: Series.nonzero() is deprecated and will be removed in a future version.Use Series.to_numpy().nonzero() instead\n",
      "  min_dt = dt.iloc[dt.nonzero()[0]].min()\n",
      "/usr/lib64/python3.5/site-packages/ipykernel_launcher.py:65: SettingWithCopyWarning: \n",
      "A value is trying to be set on a copy of a slice from a DataFrame.\n",
      "Try using .loc[row_indexer,col_indexer] = value instead\n",
      "\n",
      "See the caveats in the documentation: http://pandas.pydata.org/pandas-docs/stable/indexing.html#indexing-view-versus-copy\n",
      "/usr/lib64/python3.5/site-packages/ipykernel_launcher.py:66: SettingWithCopyWarning: \n",
      "A value is trying to be set on a copy of a slice from a DataFrame.\n",
      "Try using .loc[row_indexer,col_indexer] = value instead\n",
      "\n",
      "See the caveats in the documentation: http://pandas.pydata.org/pandas-docs/stable/indexing.html#indexing-view-versus-copy\n"
     ]
    },
    {
     "data": {
      "image/png": "[encoded data removed]",
      "text/plain": [
       "<Figure size 432x288 with 1 Axes>"
      ]
     },
     "metadata": {},
     "output_type": "display_data"
    },
    {
     "name": "stdout",
     "output_type": "stream",
     "text": [
      "RMSE :  0.0786239262453661\n"
     ]
    },
    {
     "data": {
      "text/plain": [
       "(                       IDS      Horodate_UTC  Mois  Injection RTE (W)  \\\n",
       " 2013-10-13 00:00:00  961.0  02/11/2013 22:00  11.0       3.820834e+10   \n",
       " 2013-10-13 00:30:00  962.0  02/11/2013 22:30  11.0       3.807833e+10   \n",
       " 2013-10-13 01:00:00  963.0  02/11/2013 23:00  11.0       3.660017e+10   \n",
       " 2013-10-13 01:30:00  964.0  02/11/2013 23:30  11.0       3.399954e+10   \n",
       " 2013-10-13 02:00:00  965.0  03/11/2013 00:00  11.0       3.319009e+10   \n",
       " 2013-10-13 02:30:00  966.0  03/11/2013 00:30  11.0       3.249878e+10   \n",
       " 2013-10-13 03:00:00  967.0  03/11/2013 01:00  11.0       3.187939e+10   \n",
       " 2013-10-13 03:30:00  968.0  03/11/2013 01:30  11.0       3.020060e+10   \n",
       " 2013-10-13 04:00:00  969.0  03/11/2013 02:00  11.0       2.889847e+10   \n",
       " 2013-10-13 04:30:00  970.0  03/11/2013 02:30  11.0       2.785915e+10   \n",
       " 2013-10-13 05:00:00  971.0  03/11/2013 03:00  11.0       2.736066e+10   \n",
       " 2013-10-13 05:30:00  972.0  03/11/2013 03:30  11.0       2.706151e+10   \n",
       " 2013-10-13 06:00:00  973.0  03/11/2013 04:00  11.0       2.752234e+10   \n",
       " 2013-10-13 06:30:00  974.0  03/11/2013 04:30  11.0       2.778109e+10   \n",
       " 2013-10-13 07:00:00  975.0  03/11/2013 05:00  11.0       2.873104e+10   \n",
       " 2013-10-13 07:30:00  976.0  03/11/2013 05:30  11.0       2.924840e+10   \n",
       " 2013-10-13 08:00:00  977.0  03/11/2013 06:00  11.0       2.991373e+10   \n",
       " 2013-10-13 08:30:00  978.0  03/11/2013 06:30  11.0       2.991584e+10   \n",
       " 2013-10-13 09:00:00  979.0  03/11/2013 07:00  11.0       3.093844e+10   \n",
       " 2013-10-13 09:30:00  980.0  03/11/2013 07:30  11.0       3.219608e+10   \n",
       " 2013-10-13 10:00:00  981.0  03/11/2013 08:00  11.0       3.341030e+10   \n",
       " 2013-10-13 10:30:00  982.0  03/11/2013 08:30  11.0       3.405757e+10   \n",
       " 2013-10-13 11:00:00  983.0  03/11/2013 09:00  11.0       3.432574e+10   \n",
       " 2013-10-13 11:30:00  984.0  03/11/2013 09:30  11.0       3.421588e+10   \n",
       " 2013-10-13 12:00:00  985.0  03/11/2013 10:00  11.0       3.431281e+10   \n",
       " 2013-10-13 12:30:00  986.0  03/11/2013 10:30  11.0       3.471732e+10   \n",
       " 2013-10-13 13:00:00  987.0  03/11/2013 11:00  11.0       3.573877e+10   \n",
       " 2013-10-13 13:30:00  988.0  03/11/2013 11:30  11.0       3.676661e+10   \n",
       " 2013-10-13 14:00:00  989.0  03/11/2013 12:00  11.0       3.570728e+10   \n",
       " 2013-10-13 14:30:00  990.0  03/11/2013 12:30  11.0       3.437214e+10   \n",
       " ...                    ...               ...   ...                ...   \n",
       " 2018-12-06 09:30:00    NaN               NaN   NaN                NaN   \n",
       " 2018-12-06 10:00:00    NaN               NaN   NaN                NaN   \n",
       " 2018-12-06 10:30:00    NaN               NaN   NaN                NaN   \n",
       " 2018-12-06 11:00:00    NaN               NaN   NaN                NaN   \n",
       " 2018-12-06 11:30:00    NaN               NaN   NaN                NaN   \n",
       " 2018-12-06 12:00:00    NaN               NaN   NaN                NaN   \n",
       " 2018-12-06 12:30:00    NaN               NaN   NaN                NaN   \n",
       " 2018-12-06 13:00:00    NaN               NaN   NaN                NaN   \n",
       " 2018-12-06 13:30:00    NaN               NaN   NaN                NaN   \n",
       " 2018-12-06 14:00:00    NaN               NaN   NaN                NaN   \n",
       " 2018-12-06 14:30:00    NaN               NaN   NaN                NaN   \n",
       " 2018-12-06 15:00:00    NaN               NaN   NaN                NaN   \n",
       " 2018-12-06 15:30:00    NaN               NaN   NaN                NaN   \n",
       " 2018-12-06 16:00:00    NaN               NaN   NaN                NaN   \n",
       " 2018-12-06 16:30:00    NaN               NaN   NaN                NaN   \n",
       " 2018-12-06 17:00:00    NaN               NaN   NaN                NaN   \n",
       " 2018-12-06 17:30:00    NaN               NaN   NaN                NaN   \n",
       " 2018-12-06 18:00:00    NaN               NaN   NaN                NaN   \n",
       " 2018-12-06 18:30:00    NaN               NaN   NaN                NaN   \n",
       " 2018-12-06 19:00:00    NaN               NaN   NaN                NaN   \n",
       " 2018-12-06 19:30:00    NaN               NaN   NaN                NaN   \n",
       " 2018-12-06 20:00:00    NaN               NaN   NaN                NaN   \n",
       " 2018-12-06 20:30:00    NaN               NaN   NaN                NaN   \n",
       " 2018-12-06 21:00:00    NaN               NaN   NaN                NaN   \n",
       " 2018-12-06 21:30:00    NaN               NaN   NaN                NaN   \n",
       " 2018-12-06 22:00:00    NaN               NaN   NaN                NaN   \n",
       " 2018-12-06 22:30:00    NaN               NaN   NaN                NaN   \n",
       " 2018-12-06 23:00:00    NaN               NaN   NaN                NaN   \n",
       " 2018-12-06 23:30:00    NaN               NaN   NaN                NaN   \n",
       " 2018-12-07 00:00:00    NaN               NaN   NaN                NaN   \n",
       " \n",
       "                      Refoulement RTE (W)  Pertes modélisées (W)  \\\n",
       " 2013-10-13 00:00:00         2.145330e+09           2.703729e+09   \n",
       " 2013-10-13 00:30:00         2.210744e+09           2.691802e+09   \n",
       " 2013-10-13 01:00:00         2.311159e+09           2.557342e+09   \n",
       " 2013-10-13 01:30:00         2.396383e+09           2.325862e+09   \n",
       " 2013-10-13 02:00:00         2.293747e+09           2.255137e+09   \n",
       " 2013-10-13 02:30:00         2.211723e+09           2.195231e+09   \n",
       " 2013-10-13 03:00:00         2.303462e+09           2.141947e+09   \n",
       " 2013-10-13 03:30:00         2.394536e+09           1.999377e+09   \n",
       " 2013-10-13 04:00:00         2.393156e+09           1.890655e+09   \n",
       " 2013-10-13 04:30:00         2.405578e+09           1.805043e+09   \n",
       " 2013-10-13 05:00:00         2.417251e+09           1.764349e+09   \n",
       " 2013-10-13 05:30:00         2.404088e+09           1.740043e+09   \n",
       " 2013-10-13 06:00:00         2.334889e+09           1.777521e+09   \n",
       " 2013-10-13 06:30:00         2.323563e+09           1.798656e+09   \n",
       " 2013-10-13 07:00:00         2.251102e+09           1.876793e+09   \n",
       " 2013-10-13 07:30:00         2.298084e+09           1.919713e+09   \n",
       " 2013-10-13 08:00:00         2.287383e+09           1.975285e+09   \n",
       " 2013-10-13 08:30:00         2.251509e+09           1.975462e+09   \n",
       " 2013-10-13 09:00:00         2.194837e+09           2.061704e+09   \n",
       " 2013-10-13 09:30:00         2.175959e+09           2.169145e+09   \n",
       " 2013-10-13 10:00:00         2.220840e+09           2.274315e+09   \n",
       " 2013-10-13 10:30:00         2.276009e+09           2.330956e+09   \n",
       " 2013-10-13 11:00:00         2.197518e+09           2.354541e+09   \n",
       " 2013-10-13 11:30:00         2.210801e+09           2.344871e+09   \n",
       " 2013-10-13 12:00:00         2.189650e+09           2.353402e+09   \n",
       " 2013-10-13 12:30:00         2.103530e+09           2.389103e+09   \n",
       " 2013-10-13 13:00:00         1.974438e+09           2.479950e+09   \n",
       " 2013-10-13 13:30:00         1.919511e+09           2.572377e+09   \n",
       " 2013-10-13 14:00:00         1.923297e+09           2.477135e+09   \n",
       " 2013-10-13 14:30:00         1.999775e+09           2.358628e+09   \n",
       " ...                                  ...                    ...   \n",
       " 2018-12-06 09:30:00                  NaN                    NaN   \n",
       " 2018-12-06 10:00:00                  NaN                    NaN   \n",
       " 2018-12-06 10:30:00                  NaN                    NaN   \n",
       " 2018-12-06 11:00:00                  NaN                    NaN   \n",
       " 2018-12-06 11:30:00                  NaN                    NaN   \n",
       " 2018-12-06 12:00:00                  NaN                    NaN   \n",
       " 2018-12-06 12:30:00                  NaN                    NaN   \n",
       " 2018-12-06 13:00:00                  NaN                    NaN   \n",
       " 2018-12-06 13:30:00                  NaN                    NaN   \n",
       " 2018-12-06 14:00:00                  NaN                    NaN   \n",
       " 2018-12-06 14:30:00                  NaN                    NaN   \n",
       " 2018-12-06 15:00:00                  NaN                    NaN   \n",
       " 2018-12-06 15:30:00                  NaN                    NaN   \n",
       " 2018-12-06 16:00:00                  NaN          "
      ]
     },
     "execution_count": 8,
     "metadata": {},
     "output_type": "execute_result"
    },
    {
     "data": {
      "text/html": [
       "<b>limit_output extension: Maximum message size of 10000 exceeded with 168970 characters</b>"
      ]
     },
     "metadata": {},
     "output_type": "display_data"
    }
   ],
   "source": [
    " prophet_feature(train, test, 'PRO1_BASE')"
   ]
  },
  {
   "cell_type": "code",
   "execution_count": null,
   "metadata": {
    "ExecuteTime": {
     "start_time": "2019-06-16T10:43:20.805Z"
    },
    "scrolled": false
   },
   "outputs": [
    {
     "name": "stderr",
     "output_type": "stream",
     "text": [
      "/usr/lib64/python3.5/site-packages/ipykernel_launcher.py:6: SettingWithCopyWarning: \n",
      "A value is trying to be set on a copy of a slice from a DataFrame.\n",
      "Try using .loc[row_indexer,col_indexer] = value instead\n",
      "\n",
      "See the caveats in the documentation: http://pandas.pydata.org/pandas-docs/stable/indexing.html#indexing-view-versus-copy\n",
      "  \n",
      "/usr/lib64/python3.5/site-packages/pandas/core/frame.py:4025: SettingWithCopyWarning: \n",
      "A value is trying to be set on a copy of a slice from a DataFrame\n",
      "\n",
      "See the caveats in the documentation: http://pandas.pydata.org/pandas-docs/stable/indexing.html#indexing-view-versus-copy\n",
      "  return super(DataFrame, self).rename(**kwargs)\n",
      "/usr/lib64/python3.5/site-packages/ipykernel_launcher.py:9: SettingWithCopyWarning: \n",
      "A value is trying to be set on a copy of a slice from a DataFrame.\n",
      "Try using .loc[row_indexer,col_indexer] = value instead\n",
      "\n",
      "See the caveats in the documentation: http://pandas.pydata.org/pandas-docs/stable/indexing.html#indexing-view-versus-copy\n",
      "  if __name__ == '__main__':\n",
      "/usr/lib64/python3.5/site-packages/ipykernel_launcher.py:10: SettingWithCopyWarning: \n",
      "A value is trying to be set on a copy of a slice from a DataFrame\n",
      "\n",
      "See the caveats in the documentation: http://pandas.pydata.org/pandas-docs/stable/indexing.html#indexing-view-versus-copy\n",
      "  # Remove the CWD from sys.path while we load stuff.\n",
      "/home_nfs/mcaitucoli-2047/.local/lib64/python3.5/site-packages/fbprophet/forecaster.py:880: FutureWarning: Series.nonzero() is deprecated and will be removed in a future version.Use Series.to_numpy().nonzero() instead\n",
      "  min_dt = dt.iloc[dt.nonzero()[0]].min()\n",
      "/usr/lib64/python3.5/site-packages/ipykernel_launcher.py:62: SettingWithCopyWarning: \n",
      "A value is trying to be set on a copy of a slice from a DataFrame.\n",
      "Try using .loc[row_indexer,col_indexer] = value instead\n",
      "\n",
      "See the caveats in the documentation: http://pandas.pydata.org/pandas-docs/stable/indexing.html#indexing-view-versus-copy\n",
      "/usr/lib64/python3.5/site-packages/ipykernel_launcher.py:63: SettingWithCopyWarning: \n",
      "A value is trying to be set on a copy of a slice from a DataFrame.\n",
      "Try using .loc[row_indexer,col_indexer] = value instead\n",
      "\n",
      "See the caveats in the documentation: http://pandas.pydata.org/pandas-docs/stable/indexing.html#indexing-view-versus-copy\n"
     ]
    },
    {
     "data": {
      "image/png": "[encoded data removed]",
      "text/plain": [
       "<Figure size 432x288 with 1 Axes>"
      ]
     },
     "metadata": {},
     "output_type": "display_data"
    },
    {
     "name": "stdout",
     "output_type": "stream",
     "text": [
      "RMSE :  0.07674394345755398\n"
     ]
    },
    {
     "name": "stderr",
     "output_type": "stream",
     "text": [
      "/usr/lib64/python3.5/site-packages/ipykernel_launcher.py:6: SettingWithCopyWarning: \n",
      "A value is trying to be set on a copy of a slice from a DataFrame.\n",
      "Try using .loc[row_indexer,col_indexer] = value instead\n",
      "\n",
      "See the caveats in the documentation: http://pandas.pydata.org/pandas-docs/stable/indexing.html#indexing-view-versus-copy\n",
      "  \n",
      "/usr/lib64/python3.5/site-packages/pandas/core/frame.py:4025: SettingWithCopyWarning: \n",
      "A value is trying to be set on a copy of a slice from a DataFrame\n",
      "\n",
      "See the caveats in the documentation: http://pandas.pydata.org/pandas-docs/stable/indexing.html#indexing-view-versus-copy\n",
      "  return super(DataFrame, self).rename(**kwargs)\n",
      "/usr/lib64/python3.5/site-packages/ipykernel_launcher.py:9: SettingWithCopyWarning: \n",
      "A value is trying to be set on a copy of a slice from a DataFrame.\n",
      "Try using .loc[row_indexer,col_indexer] = value instead\n",
      "\n",
      "See the caveats in the documentation: http://pandas.pydata.org/pandas-docs/stable/indexing.html#indexing-view-versus-copy\n",
      "  if __name__ == '__main__':\n",
      "/usr/lib64/python3.5/site-packages/ipykernel_launcher.py:10: SettingWithCopyWarning: \n",
      "A value is trying to be set on a copy of a slice from a DataFrame\n",
      "\n",
      "See the caveats in the documentation: http://pandas.pydata.org/pandas-docs/stable/indexing.html#indexing-view-versus-copy\n",
      "  # Remove the CWD from sys.path while we load stuff.\n",
      "/home_nfs/mcaitucoli-2047/.local/lib64/python3.5/site-packages/fbprophet/forecaster.py:880: FutureWarning: Series.nonzero() is deprecated and will be removed in a future version.Use Series.to_numpy().nonzero() instead\n",
      "  min_dt = dt.iloc[dt.nonzero()[0]].min()\n"
     ]
    }
   ],
   "source": [
    "for tar in TARGETS:    \n",
    "    train, test = prophet_feature(train, test, tar)"
   ]
  },
  {
   "cell_type": "code",
   "execution_count": 14,
   "metadata": {
    "ExecuteTime": {
     "end_time": "2019-06-15T08:21:32.916071Z",
     "start_time": "2019-06-15T08:21:32.892865Z"
    }
   },
   "outputs": [],
   "source": [
    "train = train[~train['Injection RTE (W)'].isna()]\n",
    "test = test[~test['Injection RTE (W)'].isna()]"
   ]
  },
  {
   "cell_type": "code",
   "execution_count": 12,
   "metadata": {
    "ExecuteTime": {
     "end_time": "2019-06-16T08:46:08.985814Z",
     "start_time": "2019-06-16T08:46:05.156925Z"
    },
    "scrolled": true
   },
   "outputs": [
    {
     "data": {
      "image/png": "[encoded data removed]",
      "text/plain": [
       "<Figure size 432x288 with 1 Axes>"
      ]
     },
     "metadata": {},
     "output_type": "display_data"
    }
   ],
   "source": [
    "%matplotlib inline\n",
    "plt.figure()\n",
    "train['prophet_RES1_BASE'].plot()\n",
    "test['prophet_RES1_BASE'].plot()\n",
    "plt.show()"
   ]
  },
  {
   "cell_type": "code",
   "execution_count": 18,
   "metadata": {
    "ExecuteTime": {
     "end_time": "2019-06-15T08:22:10.802142Z",
     "start_time": "2019-06-15T08:22:10.788344Z"
    }
   },
   "outputs": [],
   "source": [
    "SAVE_PROPHET = True"
   ]
  },
  {
   "cell_type": "code",
   "execution_count": 19,
   "metadata": {
    "ExecuteTime": {
     "end_time": "2019-06-15T08:22:13.727304Z",
     "start_time": "2019-06-15T08:22:11.192564Z"
    }
   },
   "outputs": [],
   "source": [
    "if SAVE_PROPHET:\n",
    "    pd.DataFrame.to_csv(train, 'train_prophet.csv')\n",
    "    pd.DataFrame.to_csv(test, 'test_prophet.csv')"
   ]
  },
  {
   "cell_type": "markdown",
   "metadata": {},
   "source": [
    "# Features Creation"
   ]
  },
  {
   "cell_type": "code",
   "execution_count": 22,
   "metadata": {
    "ExecuteTime": {
     "end_time": "2019-06-15T06:42:09.858588Z",
     "start_time": "2019-06-15T06:42:09.833334Z"
    }
   },
   "outputs": [],
   "source": [
    "def corr_drop(df,threshold, target, inf=0):\n",
    "    \n",
    "    df = df.copy()\n",
    "    features = BASIC_FEAT.copy()\n",
    "    features.append(target)\n",
    "    df = df[features]\n",
    "    corr_target = dict.fromkeys((features))\n",
    "    to_drop = []\n",
    "    \n",
    "    for k in features:\n",
    "        corr_target[k] = np.corrcoef(df[k],df[target])[0,1]\n",
    "        if abs(corr_target[k])<inf:\n",
    "            to_drop.append(k)\n",
    "    \n",
    "    for i in features:\n",
    "        for j in features:\n",
    "            if i !=j:\n",
    "                if abs(np.corrcoef(df[i],df[j])[0,1])>threshold:\n",
    "                    coefi, coefj = abs(corr_target[i]),abs(corr_target[j])\n",
    "                    if coefi > coefj:\n",
    "                        to_drop.append(j)\n",
    "                    else:\n",
    "                        to_drop.append(i)\n",
    "                        \n",
    "    to_drop = list(set(to_drop))\n",
    "    print('Number of columns to drop : ',len(to_drop))\n",
    "    print('Name of columns to drop :')\n",
    "    for col in to_drop:\n",
    "        print(col)\n",
    "    return to_drop"
   ]
  }
 ],
 "metadata": {
  "gist": {
   "data": {
    "description": "Code/enedis/notebooks/Feature Engineering.ipynb",
    "public": false
   },
   "id": ""
  },
  "hide_input": false,
  "kernelspec": {
   "display_name": "Python 3",
   "language": "python3",
   "name": "python3"
  },
  "language_info": {
   "codemirror_mode": {
    "name": "ipython",
    "version": 3
   },
   "file_extension": ".py",
   "mimetype": "text/x-python",
   "name": "python",
   "nbconvert_exporter": "python",
   "pygments_lexer": "ipython3",
   "version": "3.5.5"
  },
  "nbTranslate": {
   "displayLangs": [
    "*"
   ],
   "hotkey": "alt-t",
   "langInMainMenu": true,
   "sourceLang": "en",
   "targetLang": "fr",
   "useGoogleTranslate": true
  },
  "toc": {
   "nav_menu": {},
   "number_sections": true,
   "sideBar": true,
   "skip_h1_title": false,
   "title_cell": "Table of Contents",
   "title_sidebar": "Contents",
   "toc_cell": false,
   "toc_position": {
    "height": "calc(100% - 180px)",
    "left": "10px",
    "top": "150px",
    "width": "208.545px"
   },
   "toc_section_display": true,
   "toc_window_display": false
  },
  "varInspector": {
   "cols": {
    "lenName": 16,
    "lenType": 16,
    "lenVar": 40
   },
   "kernels_config": {
    "python": {
     "delete_cmd_postfix": "",
     "delete_cmd_prefix": "del ",
     "library": "var_list.py",
     "varRefreshCmd": "print(var_dic_list())"
    },
    "r": {
     "delete_cmd_postfix": ") ",
     "delete_cmd_prefix": "rm(",
     "library": "var_list.r",
     "varRefreshCmd": "cat(var_dic_list()) "
    }
   },
   "types_to_exclude": [
    "module",
    "function",
    "builtin_function_or_method",
    "instance",
    "_Feature"
   ],
   "window_display": false
  }
 },
 "nbformat": 4,
 "nbformat_minor": 2
}
